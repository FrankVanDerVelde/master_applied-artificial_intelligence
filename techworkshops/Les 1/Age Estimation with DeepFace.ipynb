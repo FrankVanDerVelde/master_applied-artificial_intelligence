{
 "cells": [
  {
   "cell_type": "markdown",
   "id": "38db12ba-0b72-4ef8-aae6-1e9910c41e5c",
   "metadata": {},
   "source": [
    "# Age Estimation with DeepFace\n",
    "\n",
    "- Master Applied AI Hogeschool van Amsterdam\n",
    "- Thursday 4 September 2025\n",
    "- Tech Workshops - docenten Michiel en Rick\n",
    "\n",
    "Acknowledgements: Stijn Oomes\n",
    "\n",
    "DOES NOT WORK ON PYTHON 3.13. (As Tensorflow does not work on 3.13)\n",
    "Works on Python 3.11 and 3.12, maybe also on older versions \n",
    "\n",
    "Please note that this notebook installs about 2Gb of data on your laptop. At the end of the notebook there is some code to help you clean it up.\n",
    "\n",
    "#### Sources\n",
    "- https://viso.ai/computer-vision/deepface/\n"
   ]
  },
  {
   "cell_type": "markdown",
   "id": "61289ad6-1fe1-4fa1-8158-cbe5fab3f806",
   "metadata": {},
   "source": [
    "## Import libraries"
   ]
  },
  {
   "cell_type": "code",
   "execution_count": null,
   "id": "54b81b2f",
   "metadata": {},
   "outputs": [],
   "source": [
    "# Make sure you have the right Python version as this does not run on Python 3.13\n",
    "import platform\n",
    "print(platform.python_version())"
   ]
  },
  {
   "cell_type": "markdown",
   "id": "221bb775",
   "metadata": {},
   "source": [
    "First, we need to install tensorflow/keras as the deepface module uses this to build it's model. We will install this with tf-keras package, as this combines both tensorflow and keras. Source: https://pypi.org/project/tf-keras/"
   ]
  },
  {
   "cell_type": "code",
   "execution_count": null,
   "id": "3f244864",
   "metadata": {},
   "outputs": [],
   "source": [
    "!pip install tf-keras"
   ]
  },
  {
   "cell_type": "markdown",
   "id": "df4a9d76",
   "metadata": {},
   "source": [
    "Now, we need three packages. We will use Matplotlib to show images. \n",
    "\n",
    "We will use OpenCV to handle the images. OpenCV is a widely used Computer Vision package. It is used for all sorts of tasks in Computer Vision, but **Not** for building deep learning models. Here we use it to convert an image to data and to plot an image with bounding box and data.\n",
    "\n",
    "Lastly, we will use deepface package. This package contains a pre-trained CNN for age estimation and some other tasks like gender and ethnicity estimation. Please note that using this package in the tech review is not allowed, as we expect you to build your own neural network. "
   ]
  },
  {
   "cell_type": "code",
   "execution_count": null,
   "id": "aac2f21b",
   "metadata": {},
   "outputs": [],
   "source": [
    "!pip install matplotlib opencv-python deepface  "
   ]
  },
  {
   "cell_type": "code",
   "execution_count": null,
   "id": "04f2bec1",
   "metadata": {},
   "outputs": [],
   "source": [
    "import deepface\n",
    "print(dir(deepface))\n",
    "print(deepface.__version__)"
   ]
  },
  {
   "cell_type": "code",
   "execution_count": null,
   "id": "fcfffe66",
   "metadata": {},
   "outputs": [],
   "source": [
    "import numpy as np\n",
    "import matplotlib.pyplot as plt\n",
    "import cv2\n",
    "from deepface import DeepFace"
   ]
  },
  {
   "cell_type": "markdown",
   "id": "e11be355-1774-4ca9-96ea-c8e2747c006a",
   "metadata": {},
   "source": [
    "## Load and show image"
   ]
  },
  {
   "cell_type": "code",
   "execution_count": null,
   "id": "8ad609b8-e12d-40ff-81de-511a2e1ddff6",
   "metadata": {},
   "outputs": [],
   "source": [
    "import cv2\n",
    "img = cv2.imread('person.jpg')\n",
    "\n",
    "color = cv2.cvtColor(img, cv2.COLOR_BGR2RGB)\n",
    "\n",
    "plt.figure(figsize=(10,10))\n",
    "plt.axis('off')\n",
    "plt.imshow(color);"
   ]
  },
  {
   "cell_type": "markdown",
   "id": "c28277b6-15ea-4a78-872b-53a4c63c01fd",
   "metadata": {},
   "source": [
    "## Estimate age"
   ]
  },
  {
   "cell_type": "code",
   "execution_count": null,
   "id": "690e048e",
   "metadata": {},
   "outputs": [],
   "source": [
    "results = deepface.DeepFace.analyze(img, actions = ['age'])\n",
    "results"
   ]
  },
  {
   "cell_type": "code",
   "execution_count": null,
   "id": "e895a0d8-4c1a-47c0-a226-9b8e1265f0a6",
   "metadata": {},
   "outputs": [],
   "source": [
    "print(f\"Predicted age is: {results[0]['age']}\")"
   ]
  },
  {
   "cell_type": "code",
   "execution_count": null,
   "id": "fd70ee44-794c-4e63-9974-d0c69186fb1f",
   "metadata": {},
   "outputs": [],
   "source": [
    "results[0]['region']"
   ]
  },
  {
   "cell_type": "markdown",
   "id": "d7953247-7a24-450e-9938-e28ddbc84fbf",
   "metadata": {},
   "source": [
    "## Show face plus age"
   ]
  },
  {
   "cell_type": "code",
   "execution_count": null,
   "id": "0ce1e6f7-a4af-4171-b80c-f965f3b9d831",
   "metadata": {},
   "outputs": [],
   "source": [
    "text = f\"{results[0]['age']} y.o.\"\n",
    "\n",
    "color = cv2.cvtColor(img, cv2.COLOR_BGR2RGB)\n",
    "\n",
    "x = results[0]['region']['x']\n",
    "y = results[0]['region']['y']\n",
    "w = results[0]['region']['w']\n",
    "h = results[0]['region']['h']\n",
    "\n",
    "cv2.rectangle(color,(x,y),(x+w,y+h),(0,255,0),3)\n",
    "\n",
    "# text = '%s years' % (results[0]['age'])\n",
    "cv2.putText(color, text, (x+w,y+10),\n",
    "            cv2.FONT_HERSHEY_SIMPLEX, 0.5, (255, 120, 0), 1)\n",
    "plt.figure(figsize=(10,10))\n",
    "plt.axis('off')\n",
    "plt.imshow(color);"
   ]
  },
  {
   "cell_type": "markdown",
   "id": "8b1d71ee-7bf5-4d0f-885e-6963847690f1",
   "metadata": {},
   "source": [
    "## Look at model"
   ]
  },
  {
   "cell_type": "code",
   "execution_count": null,
   "id": "8815a831-89ec-4a3d-a09e-b80a6b10abce",
   "metadata": {},
   "outputs": [],
   "source": [
    "model = DeepFace.build_model(\"Age\", \"facial_attribute\")"
   ]
  },
  {
   "cell_type": "code",
   "execution_count": null,
   "id": "7e35bf34-be36-4c91-b6c5-57d4577ae4ce",
   "metadata": {},
   "outputs": [],
   "source": [
    " model.model.summary()"
   ]
  },
  {
   "cell_type": "markdown",
   "id": "71d20fdb-c2a3-4ee3-be10-9eae2ce447b4",
   "metadata": {},
   "source": [
    "## Crop face from image"
   ]
  },
  {
   "cell_type": "code",
   "execution_count": null,
   "id": "3a686d02-7052-40da-b7ce-cadab0ea4eba",
   "metadata": {},
   "outputs": [],
   "source": [
    "# getting faces\n",
    "faces = DeepFace.extract_faces(img_path = img, detector_backend = 'mtcnn')\n",
    "\n",
    "# picking up the first one\n",
    "new_img = faces[0][\"face\"]"
   ]
  },
  {
   "cell_type": "code",
   "execution_count": null,
   "id": "ea215e6b-298d-475a-be11-d98c632572d7",
   "metadata": {},
   "outputs": [],
   "source": [
    "new_img.shape"
   ]
  },
  {
   "cell_type": "code",
   "execution_count": null,
   "id": "f5c89e99",
   "metadata": {},
   "outputs": [],
   "source": [
    "results[0]"
   ]
  },
  {
   "cell_type": "markdown",
   "id": "e22ab486-ffdd-4c6d-ae5d-26472a9944a9",
   "metadata": {},
   "source": [
    "## Show predicted age distribution"
   ]
  },
  {
   "cell_type": "code",
   "execution_count": null,
   "id": "a3dcbc62",
   "metadata": {},
   "outputs": [],
   "source": [
    "new_img = cv2.resize(new_img, (224,224))\n",
    "img_arr = np.array([new_img])\n",
    "img_arr.shape"
   ]
  },
  {
   "cell_type": "code",
   "execution_count": null,
   "id": "ba7d0ff9-63e5-4ffe-b58c-df32f4a08c14",
   "metadata": {},
   "outputs": [],
   "source": [
    "age_probas = model.model.predict(img_arr)"
   ]
  },
  {
   "cell_type": "code",
   "execution_count": null,
   "id": "d2d1056c",
   "metadata": {},
   "outputs": [],
   "source": [
    "age_probas"
   ]
  },
  {
   "cell_type": "code",
   "execution_count": null,
   "id": "f49ac111-de78-44e7-ac6f-e3070ef6a7c3",
   "metadata": {},
   "outputs": [],
   "source": [
    "len(age_probas[0])"
   ]
  },
  {
   "cell_type": "code",
   "execution_count": null,
   "id": "3af9137d-ac0d-48bd-9036-bf1ce6abcfd3",
   "metadata": {},
   "outputs": [],
   "source": [
    "plt.bar(np.arange(0,len(age_probas[0])), age_probas[0],0.7);"
   ]
  },
  {
   "cell_type": "code",
   "execution_count": null,
   "id": "2e623c84-b65b-4ae4-a4ba-949c6147d116",
   "metadata": {},
   "outputs": [],
   "source": [
    "np.argmax(age_probas[0])\n"
   ]
  },
  {
   "cell_type": "markdown",
   "id": "ad42220d-7633-4e25-87e4-738535509280",
   "metadata": {},
   "source": [
    "## Analyze for emotion, age, gender, and race"
   ]
  },
  {
   "cell_type": "code",
   "execution_count": null,
   "id": "fd789d80-a5eb-4bd9-93d4-cddd4678bed5",
   "metadata": {},
   "outputs": [],
   "source": [
    "demography = DeepFace.analyze(img)"
   ]
  },
  {
   "cell_type": "code",
   "execution_count": null,
   "id": "19aa6ae4-6c84-474c-a50f-1dce9b05ed58",
   "metadata": {},
   "outputs": [],
   "source": [
    "demography"
   ]
  },
  {
   "cell_type": "markdown",
   "id": "c1d862e7",
   "metadata": {},
   "source": [
    "## Clean up your files\n",
    "\n",
    "By doing this exercise you have downloaded 1,5 Gb in data...\n",
    "Clean up your pc by removing the model weights files (.h5)"
   ]
  },
  {
   "cell_type": "code",
   "execution_count": 97,
   "id": "e053ba66",
   "metadata": {},
   "outputs": [],
   "source": [
    "#Code to show your files and and their size\n",
    "import os\n",
    "\n",
    "#Change to your own directory\n",
    "directory = \"/Users/michiel/.deepface/weights\"\n",
    "\n",
    "# List all entries in the directory\n",
    "for filename in os.listdir(directory):\n",
    "    filepath = os.path.join(directory, filename)\n",
    "    if os.path.isfile(filepath):\n",
    "        size = os.path.getsize(filepath)/1000000\n",
    "        print(f\"{filepath}: {size} Mb\")"
   ]
  },
  {
   "cell_type": "markdown",
   "id": "6a660ef2",
   "metadata": {},
   "source": [
    "Remove the files using the rm command. eg:\n",
    "\n",
    "`rm /Users/michiel/.deepface/weights/age_model_weights.h5`\n",
    "\n",
    "Or remove (be careful) the whole directory with:\n",
    "\n",
    "`rm -rf <directoryname>` "
   ]
  },
  {
   "cell_type": "code",
   "execution_count": null,
   "id": "78d4bc75",
   "metadata": {},
   "outputs": [],
   "source": []
  }
 ],
 "metadata": {
  "kernelspec": {
   "display_name": "Python 3",
   "language": "python",
   "name": "python3"
  },
  "language_info": {
   "codemirror_mode": {
    "name": "ipython",
    "version": 3
   },
   "file_extension": ".py",
   "mimetype": "text/x-python",
   "name": "python",
   "nbconvert_exporter": "python",
   "pygments_lexer": "ipython3",
   "version": "3.11.2"
  }
 },
 "nbformat": 4,
 "nbformat_minor": 5
}
