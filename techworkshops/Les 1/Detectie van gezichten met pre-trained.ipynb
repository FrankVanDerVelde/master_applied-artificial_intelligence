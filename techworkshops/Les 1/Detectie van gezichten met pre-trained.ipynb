{
 "cells": [
  {
   "cell_type": "markdown",
   "metadata": {
    "id": "Gf3W1DMWxQU4"
   },
   "source": [
    "# Detectie van gezichten met pre-trained CNN\n",
    "\n",
    "- Master Applied Artificial Intelligence, Hogeschool van Amsterdam (AUAS)\n",
    "- Docent: Michiel Bontenbal en Rick van Kersbergen\n",
    "- Datum: Donderdag 4 september 2025\n",
    "\n",
    "\n",
    "### Doel van dit notebook\n",
    "In dit Notebook leer je hoe je gezichten kan herkennen met een voorgetraind CNN.\n",
    "\n",
    "### Inhoud\n",
    "0. Installeer en importeer de modules\n",
    "1. Importeer en toon een afbeelding\n",
    "2. Detecteer gezichten met CNN\n",
    "3. Bonus: gebruik je video en maak een simpele webapp\n",
    "\n",
    "### Bronnen en meer informatie\n",
    " \n",
    "- https://machinelearningmastery.com/how-to-perform-face-detection-with-classical-and-deep-learning-methods-in-python-with-keras/\n",
    "\n",
    "----\n",
    "Acknowledgements: Stijn Oomes"
   ]
  },
  {
   "cell_type": "markdown",
   "metadata": {
    "id": "ESJ9bdd2xQU6"
   },
   "source": [
    "## 0. Installeer en importeer de modules"
   ]
  },
  {
   "cell_type": "code",
   "execution_count": null,
   "metadata": {
    "colab": {
     "base_uri": "https://localhost:8080/"
    },
    "id": "wFV9uv8gOSVR",
    "outputId": "fd775f6b-add2-4c11-a892-8d3e91596e05"
   },
   "outputs": [],
   "source": [
    "!pip install mtcnn"
   ]
  },
  {
   "cell_type": "code",
   "execution_count": null,
   "metadata": {
    "colab": {
     "base_uri": "https://localhost:8080/"
    },
    "id": "rhDF34xqNbgG",
    "outputId": "1f06e9e5-9891-4ca6-992b-1ef10081e7d9"
   },
   "outputs": [],
   "source": [
    "from mtcnn.mtcnn import MTCNN"
   ]
  },
  {
   "cell_type": "code",
   "execution_count": null,
   "metadata": {},
   "outputs": [],
   "source": [
    "# importeer PIL voor image processing\n",
    "from PIL import Image"
   ]
  },
  {
   "cell_type": "code",
   "execution_count": null,
   "metadata": {
    "id": "cBv0zzpL00ua"
   },
   "outputs": [],
   "source": [
    "# importeer matplotlib voor het plotten van afbeeldingen\n",
    "import matplotlib.pyplot as plt\n",
    "\n",
    "#gebruik onderstaande 'cell magic' om het plaatje in het notebook te tonen\n",
    "%matplotlib inline "
   ]
  },
  {
   "cell_type": "markdown",
   "metadata": {
    "id": "5YUl9FTCxQU9"
   },
   "source": [
    "## 1. Importeer en toon afbeelding"
   ]
  },
  {
   "cell_type": "markdown",
   "metadata": {
    "id": "c7gzvJHv096O"
   },
   "source": [
    "Zoek een kleuren foto met 5 tot 10 gezichten. \n",
    "\n",
    "Laat de foto op het scherm zien. Hoeveel gezichten zie jij?\n",
    "\n",
    "Gebruik bijvoorbeeld dezelfde foto als van de Haar Cascade."
   ]
  },
  {
   "cell_type": "code",
   "execution_count": null,
   "metadata": {
    "colab": {
     "base_uri": "https://localhost:8080/",
     "height": 509
    },
    "id": "b3ZGGSrFxQU-",
    "outputId": "23a99cde-c278-485a-aadb-82359d9794e1",
    "scrolled": false
   },
   "outputs": [],
   "source": [
    "#plot the image DOWNLOAD YOUR OWN IMAGE AND PUT THE FILENAME IN THE VARIABLE BELOW\n",
    "\n",
    "filename = <YOUR FILENAME>\n",
    "\n",
    "img = plt.imread('person.png') \n",
    "plt.figure(figsize=(10,8))\n",
    "plt.imshow(img);"
   ]
  },
  {
   "cell_type": "markdown",
   "metadata": {},
   "source": [
    "Welk datatype heeft de ingeladen afbeelding?\n",
    "\n",
    "Hoe groot is de afbeelding in pixels?\n",
    "Gebruik de code hieronder."
   ]
  },
  {
   "cell_type": "code",
   "execution_count": null,
   "metadata": {},
   "outputs": [],
   "source": [
    "#print type and shape of image\n",
    "print(type(img))\n",
    "print(img.shape)"
   ]
  },
  {
   "cell_type": "markdown",
   "metadata": {
    "id": "CM8mTNtIORFS"
   },
   "source": [
    "## 3. Multi-Task Convolutional Neural Network"
   ]
  },
  {
   "cell_type": "code",
   "execution_count": null,
   "metadata": {
    "id": "NtZ_cCjGVysU"
   },
   "outputs": [],
   "source": [
    "#import the library. You can ignore a possible tensorflow warning\n",
    "from mtcnn.mtcnn import MTCNN\n",
    "\n",
    "from matplotlib.patches import Rectangle\n",
    "from matplotlib.patches import Circle\n",
    "import matplotlib.pyplot as plt"
   ]
  },
  {
   "cell_type": "code",
   "execution_count": null,
   "metadata": {},
   "outputs": [],
   "source": [
    "#Set the filename to load and detect faces\n",
    "filename = <YOUR FILENAME>\n",
    "\n",
    "# Load with PIL and convert to RGB to ensure 3 channels\n",
    "img = Image.open(filename).convert('RGB')\n",
    "\n",
    "# Convert PIL image to numpy array\n",
    "pixels = np.array(img)\n",
    "\n",
    "print(pixels.shape)  # (height, width, 3)\n",
    "\n",
    "detector = MTCNN()\n",
    "mtcnn_faces = detector.detect_faces(pixels)\n",
    "print(\"Aantal gezichten: \" + str(len(mtcnn_faces)))"
   ]
  },
  {
   "cell_type": "code",
   "execution_count": null,
   "metadata": {
    "colab": {
     "base_uri": "https://localhost:8080/"
    },
    "id": "fZcRTsrevPdJ",
    "outputId": "faf93644-db51-42b7-d6d4-cf0e0e5aed54"
   },
   "outputs": [],
   "source": [
    "#inspecteer het eerste gezicht. Wat wordt hier vastgelegd?\n",
    "mtcnn_faces[0]"
   ]
  },
  {
   "cell_type": "code",
   "execution_count": null,
   "metadata": {
    "colab": {
     "base_uri": "https://localhost:8080/",
     "height": 575
    },
    "id": "2LBHdVAJOVWz",
    "outputId": "afe3dc01-696f-4014-9d46-d58d573e7695"
   },
   "outputs": [],
   "source": [
    "def draw_image_with_boxes(image, result_list):\n",
    "    plt.figure(figsize=(15,10))\n",
    "    plt.axis('off')\n",
    "    plt.imshow(image)\n",
    "    \n",
    "    ax = plt.gca()\n",
    "    \n",
    "    for result in result_list:\n",
    "        x, y, width, height = result['box']\n",
    "        rect = Rectangle((x, y), width, height, fill=False, color='blue',linewidth=2.0)\n",
    "        ax.add_patch(rect)\n",
    "        \n",
    "    plt.show()\n",
    "\n",
    "draw_image_with_boxes(pixels, mtcnn_faces)"
   ]
  },
  {
   "cell_type": "markdown",
   "metadata": {},
   "source": [
    "## Toon ook ogen, neus en mond"
   ]
  },
  {
   "cell_type": "code",
   "execution_count": null,
   "metadata": {
    "colab": {
     "base_uri": "https://localhost:8080/",
     "height": 575
    },
    "id": "JLrTZLvkPWAG",
    "outputId": "6f60f826-dad4-48b3-a9a6-20b90b65b4b1"
   },
   "outputs": [],
   "source": [
    "def draw_faces(image, result_list):\n",
    "    plt.figure(figsize=(15,10))\n",
    "    plt.axis('off')\n",
    "    plt.imshow(image)\n",
    "    \n",
    "    ax = plt.gca()\n",
    "    \n",
    "    for result in result_list:\n",
    "        x, y, width, height = result['box']\n",
    "        rect = Rectangle((x, y), width, height, fill=False, color='red',linewidth=2.0)\n",
    "        ax.add_patch(rect)\n",
    "        \n",
    "        for key, value in result['keypoints'].items():\n",
    "            dot = Circle(value, radius=1.1, color='blue')\n",
    "            ax.add_patch(dot)\n",
    "            \n",
    "    plt.show()\n",
    "\n",
    "draw_faces(pixels, mtcnn_faces)"
   ]
  }
 ],
 "metadata": {
  "colab": {
   "name": "2021_03_16_gezichtsdetectie_MTCNN.ipynb",
   "provenance": []
  },
  "kernelspec": {
   "display_name": "Python 3",
   "language": "python",
   "name": "python3"
  },
  "language_info": {
   "codemirror_mode": {
    "name": "ipython",
    "version": 3
   },
   "file_extension": ".py",
   "mimetype": "text/x-python",
   "name": "python",
   "nbconvert_exporter": "python",
   "pygments_lexer": "ipython3",
   "version": "3.11.2"
  }
 },
 "nbformat": 4,
 "nbformat_minor": 1
}
